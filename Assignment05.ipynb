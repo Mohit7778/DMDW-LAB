{
  "nbformat": 4,
  "nbformat_minor": 0,
  "metadata": {
    "colab": {
      "name": "Assignment05.ipynb",
      "provenance": [],
      "collapsed_sections": [],
      "authorship_tag": "ABX9TyO+fzmY3ViyiJGieReD7t9s",
      "include_colab_link": true
    },
    "kernelspec": {
      "name": "python3",
      "display_name": "Python 3"
    },
    "language_info": {
      "name": "python"
    }
  },
  "cells": [
    {
      "cell_type": "markdown",
      "metadata": {
        "id": "view-in-github",
        "colab_type": "text"
      },
      "source": [
        "<a href=\"https://colab.research.google.com/github/Mohit7778/DMDW-LAB/blob/main/Assignment05.ipynb\" target=\"_parent\"><img src=\"https://colab.research.google.com/assets/colab-badge.svg\" alt=\"Open In Colab\"/></a>"
      ]
    },
    {
      "cell_type": "markdown",
      "metadata": {
        "id": "f8UhG50s2Uc8"
      },
      "source": [
        "1.Read any CSV data file from google colab and create a dataframe using pandas. Next find mean value of each column. Find indices where non value is present. Replace the missing value using the mean value."
      ]
    },
    {
      "cell_type": "code",
      "metadata": {
        "colab": {
          "base_uri": "https://localhost:8080/"
        },
        "id": "6VZFPlGjBjgA",
        "outputId": "1cef22b5-d8a1-4acf-89be-b0cd9a8df4de"
      },
      "source": [
        "from google.colab import drive\n",
        "drive.mount('/content/drive')"
      ],
      "execution_count": null,
      "outputs": [
        {
          "output_type": "stream",
          "name": "stdout",
          "text": [
            "Mounted at /content/drive\n"
          ]
        }
      ]
    },
    {
      "cell_type": "code",
      "metadata": {
        "id": "WzHIjuZa2Rs5",
        "colab": {
          "base_uri": "https://localhost:8080/",
          "height": 414
        },
        "outputId": "618821d3-4b35-40af-972d-7cd060e3c6a5"
      },
      "source": [
        "import pandas as pd\n",
        "import numpy as np\n",
        "import matplotlib.pyplot as plt\n",
        "car_sales = pd.read_csv(\"/content/drive/MyDrive/Colab Notebooks/car-sales-extended-missing-data.csv\")\n",
        "car_sales"
      ],
      "execution_count": null,
      "outputs": [
        {
          "output_type": "execute_result",
          "data": {
            "text/html": [
              "<div>\n",
              "<style scoped>\n",
              "    .dataframe tbody tr th:only-of-type {\n",
              "        vertical-align: middle;\n",
              "    }\n",
              "\n",
              "    .dataframe tbody tr th {\n",
              "        vertical-align: top;\n",
              "    }\n",
              "\n",
              "    .dataframe thead th {\n",
              "        text-align: right;\n",
              "    }\n",
              "</style>\n",
              "<table border=\"1\" class=\"dataframe\">\n",
              "  <thead>\n",
              "    <tr style=\"text-align: right;\">\n",
              "      <th></th>\n",
              "      <th>Make</th>\n",
              "      <th>Colour</th>\n",
              "      <th>Odometer (KM)</th>\n",
              "      <th>Doors</th>\n",
              "      <th>Price</th>\n",
              "    </tr>\n",
              "  </thead>\n",
              "  <tbody>\n",
              "    <tr>\n",
              "      <th>0</th>\n",
              "      <td>Honda</td>\n",
              "      <td>White</td>\n",
              "      <td>35431.0</td>\n",
              "      <td>4.0</td>\n",
              "      <td>15323.0</td>\n",
              "    </tr>\n",
              "    <tr>\n",
              "      <th>1</th>\n",
              "      <td>BMW</td>\n",
              "      <td>Blue</td>\n",
              "      <td>192714.0</td>\n",
              "      <td>5.0</td>\n",
              "      <td>19943.0</td>\n",
              "    </tr>\n",
              "    <tr>\n",
              "      <th>2</th>\n",
              "      <td>Honda</td>\n",
              "      <td>White</td>\n",
              "      <td>84714.0</td>\n",
              "      <td>4.0</td>\n",
              "      <td>28343.0</td>\n",
              "    </tr>\n",
              "    <tr>\n",
              "      <th>3</th>\n",
              "      <td>Toyota</td>\n",
              "      <td>White</td>\n",
              "      <td>154365.0</td>\n",
              "      <td>4.0</td>\n",
              "      <td>13434.0</td>\n",
              "    </tr>\n",
              "    <tr>\n",
              "      <th>4</th>\n",
              "      <td>Nissan</td>\n",
              "      <td>Blue</td>\n",
              "      <td>181577.0</td>\n",
              "      <td>3.0</td>\n",
              "      <td>14043.0</td>\n",
              "    </tr>\n",
              "    <tr>\n",
              "      <th>...</th>\n",
              "      <td>...</td>\n",
              "      <td>...</td>\n",
              "      <td>...</td>\n",
              "      <td>...</td>\n",
              "      <td>...</td>\n",
              "    </tr>\n",
              "    <tr>\n",
              "      <th>995</th>\n",
              "      <td>Toyota</td>\n",
              "      <td>Black</td>\n",
              "      <td>35820.0</td>\n",
              "      <td>4.0</td>\n",
              "      <td>32042.0</td>\n",
              "    </tr>\n",
              "    <tr>\n",
              "      <th>996</th>\n",
              "      <td>NaN</td>\n",
              "      <td>White</td>\n",
              "      <td>155144.0</td>\n",
              "      <td>3.0</td>\n",
              "      <td>5716.0</td>\n",
              "    </tr>\n",
              "    <tr>\n",
              "      <th>997</th>\n",
              "      <td>Nissan</td>\n",
              "      <td>Blue</td>\n",
              "      <td>66604.0</td>\n",
              "      <td>4.0</td>\n",
              "      <td>31570.0</td>\n",
              "    </tr>\n",
              "    <tr>\n",
              "      <th>998</th>\n",
              "      <td>Honda</td>\n",
              "      <td>White</td>\n",
              "      <td>215883.0</td>\n",
              "      <td>4.0</td>\n",
              "      <td>4001.0</td>\n",
              "    </tr>\n",
              "    <tr>\n",
              "      <th>999</th>\n",
              "      <td>Toyota</td>\n",
              "      <td>Blue</td>\n",
              "      <td>248360.0</td>\n",
              "      <td>4.0</td>\n",
              "      <td>12732.0</td>\n",
              "    </tr>\n",
              "  </tbody>\n",
              "</table>\n",
              "<p>1000 rows × 5 columns</p>\n",
              "</div>"
            ],
            "text/plain": [
              "       Make Colour  Odometer (KM)  Doors    Price\n",
              "0     Honda  White        35431.0    4.0  15323.0\n",
              "1       BMW   Blue       192714.0    5.0  19943.0\n",
              "2     Honda  White        84714.0    4.0  28343.0\n",
              "3    Toyota  White       154365.0    4.0  13434.0\n",
              "4    Nissan   Blue       181577.0    3.0  14043.0\n",
              "..      ...    ...            ...    ...      ...\n",
              "995  Toyota  Black        35820.0    4.0  32042.0\n",
              "996     NaN  White       155144.0    3.0   5716.0\n",
              "997  Nissan   Blue        66604.0    4.0  31570.0\n",
              "998   Honda  White       215883.0    4.0   4001.0\n",
              "999  Toyota   Blue       248360.0    4.0  12732.0\n",
              "\n",
              "[1000 rows x 5 columns]"
            ]
          },
          "metadata": {},
          "execution_count": 3
        }
      ]
    },
    {
      "cell_type": "code",
      "metadata": {
        "id": "3-_XuB2f2gRw",
        "colab": {
          "base_uri": "https://localhost:8080/"
        },
        "outputId": "0eb9e204-6df2-4ad9-bf0d-91903ff1c341"
      },
      "source": [
        "x = np.mean(car_sales[\"Odometer (KM)\"])\n",
        "x"
      ],
      "execution_count": null,
      "outputs": [
        {
          "output_type": "execute_result",
          "data": {
            "text/plain": [
              "131253.23789473684"
            ]
          },
          "metadata": {},
          "execution_count": 4
        }
      ]
    },
    {
      "cell_type": "code",
      "metadata": {
        "id": "FQGxDdoH2iQM",
        "colab": {
          "base_uri": "https://localhost:8080/"
        },
        "outputId": "2aa10309-f439-479b-a8c3-cb2f834acd1e"
      },
      "source": [
        "y = np.mean(car_sales[\"Doors\"])\n",
        "y"
      ],
      "execution_count": null,
      "outputs": [
        {
          "output_type": "execute_result",
          "data": {
            "text/plain": [
              "4.011578947368421"
            ]
          },
          "metadata": {},
          "execution_count": 5
        }
      ]
    },
    {
      "cell_type": "code",
      "metadata": {
        "id": "U119f7kF2lP1",
        "colab": {
          "base_uri": "https://localhost:8080/"
        },
        "outputId": "839ce210-34a8-4236-96fc-f998f52d2b52"
      },
      "source": [
        "z = np.mean(car_sales[\"Price\"])\n",
        "z"
      ],
      "execution_count": null,
      "outputs": [
        {
          "output_type": "execute_result",
          "data": {
            "text/plain": [
              "16042.814736842105"
            ]
          },
          "metadata": {},
          "execution_count": 6
        }
      ]
    },
    {
      "cell_type": "code",
      "metadata": {
        "id": "obg4he6Y2m6q"
      },
      "source": [
        "car_sales.isnull().sum()"
      ],
      "execution_count": null,
      "outputs": []
    },
    {
      "cell_type": "code",
      "metadata": {
        "id": "fp_kgeVQ2qjd",
        "colab": {
          "base_uri": "https://localhost:8080/"
        },
        "outputId": "b4e85046-8572-46c6-e1aa-8f463214ae56"
      },
      "source": [
        "car_sales.fillna(np.mean(car_sales[\"Odometer (KM)\"]),inplace=True)\n",
        "car_sales.isna().sum()"
      ],
      "execution_count": null,
      "outputs": [
        {
          "output_type": "execute_result",
          "data": {
            "text/plain": [
              "Make             0\n",
              "Colour           0\n",
              "Odometer (KM)    0\n",
              "Doors            0\n",
              "Price            0\n",
              "dtype: int64"
            ]
          },
          "metadata": {},
          "execution_count": 7
        }
      ]
    },
    {
      "cell_type": "markdown",
      "metadata": {
        "id": "PawYuAJQ2uLS"
      },
      "source": [
        "2. Imagine you are given a list of items in a DataFrame as below.\n",
        "\n",
        "D=[\"A\",\"B\",\"C\",\"D\",\"E\",\"AA\",\"AB\"].Now convert and display this categorical data using dummies function of pandas and label encoder function of Scikit-learn"
      ]
    },
    {
      "cell_type": "code",
      "metadata": {
        "id": "jG_KGbW826c3"
      },
      "source": [
        ""
      ],
      "execution_count": null,
      "outputs": []
    },
    {
      "cell_type": "code",
      "metadata": {
        "id": "kO4Cm4Ge2zzL",
        "colab": {
          "base_uri": "https://localhost:8080/"
        },
        "outputId": "406e0d93-5c25-4e08-a856-ae9b894adef1"
      },
      "source": [
        "# Create dataframe\n",
        "df = pd.DataFrame({'D': [\"A\",\"B\",\"C\",\"D\",\"E\",\"AA\",\"AB\"],\n",
        "'B': [10,20,30,40,50,60,70]}, index=[0,1,2,3,4,5,6])\n",
        "print(df)\n",
        "# using get_dummies function of pandas package\n",
        "df_dummies= pd.get_dummies(df, prefix='A', \n",
        "columns=['D'])\n",
        "print(df_dummies)"
      ],
      "execution_count": null,
      "outputs": [
        {
          "output_type": "stream",
          "name": "stdout",
          "text": [
            "    D   B\n",
            "0   A  10\n",
            "1   B  20\n",
            "2   C  30\n",
            "3   D  40\n",
            "4   E  50\n",
            "5  AA  60\n",
            "6  AB  70\n",
            "    B  A_A  A_AA  A_AB  A_B  A_C  A_D  A_E\n",
            "0  10    1     0     0    0    0    0    0\n",
            "1  20    0     0     0    1    0    0    0\n",
            "2  30    0     0     0    0    1    0    0\n",
            "3  40    0     0     0    0    0    1    0\n",
            "4  50    0     0     0    0    0    0    1\n",
            "5  60    0     1     0    0    0    0    0\n",
            "6  70    0     0     1    0    0    0    0\n"
          ]
        }
      ]
    },
    {
      "cell_type": "code",
      "metadata": {
        "id": "SJETCil53jNj",
        "colab": {
          "base_uri": "https://localhost:8080/"
        },
        "outputId": "30de396f-b9d5-4749-f8f3-9673d5570ee2"
      },
      "source": [
        "# Alternatively you can use sklearn package's LabelEncoder function\n",
        "from sklearn.preprocessing import LabelEncoder\n",
        "le = LabelEncoder()\n",
        "df['A_AB'] = le.fit_transform(df.D)\n",
        "print(df)"
      ],
      "execution_count": null,
      "outputs": [
        {
          "output_type": "stream",
          "name": "stdout",
          "text": [
            "    D   B  A_AB\n",
            "0   A  10     0\n",
            "1   B  20     3\n",
            "2   C  30     4\n",
            "3   D  40     5\n",
            "4   E  50     6\n",
            "5  AA  60     1\n",
            "6  AB  70     2\n"
          ]
        }
      ]
    },
    {
      "cell_type": "markdown",
      "metadata": {
        "id": "sywl1XTg3mph"
      },
      "source": [
        "3. Read a csv details using pandas dataframe then apply min-max normalization and z-score normalization over the each column of the dataset"
      ]
    },
    {
      "cell_type": "code",
      "metadata": {
        "colab": {
          "base_uri": "https://localhost:8080/"
        },
        "id": "4XqIA4DB3qdu",
        "outputId": "188d6a30-ea17-4a68-b686-4fec3af9aa6c"
      },
      "source": [
        "from sklearn import datasets\n",
        "from sklearn import preprocessing\n",
        "# Load dataset from sklearn dataset package\n",
        "iris_ = datasets.load_iris()\n",
        "# seperate input and target features\n",
        "X = iris_.data\n",
        "y = iris_.target\n",
        "print(X)\n",
        "#Min-max normalization\n",
        "minmax_scale = preprocessing.MinMaxScaler().fit(X)\n",
        "X_minmax = minmax_scale.transform(X)\n",
        "print(X_minmax)"
      ],
      "execution_count": null,
      "outputs": [
        {
          "output_type": "stream",
          "name": "stdout",
          "text": [
            "[[5.1 3.5 1.4 0.2]\n",
            " [4.9 3.  1.4 0.2]\n",
            " [4.7 3.2 1.3 0.2]\n",
            " [4.6 3.1 1.5 0.2]\n",
            " [5.  3.6 1.4 0.2]\n",
            " [5.4 3.9 1.7 0.4]\n",
            " [4.6 3.4 1.4 0.3]\n",
            " [5.  3.4 1.5 0.2]\n",
            " [4.4 2.9 1.4 0.2]\n",
            " [4.9 3.1 1.5 0.1]\n",
            " [5.4 3.7 1.5 0.2]\n",
            " [4.8 3.4 1.6 0.2]\n",
            " [4.8 3.  1.4 0.1]\n",
            " [4.3 3.  1.1 0.1]\n",
            " [5.8 4.  1.2 0.2]\n",
            " [5.7 4.4 1.5 0.4]\n",
            " [5.4 3.9 1.3 0.4]\n",
            " [5.1 3.5 1.4 0.3]\n",
            " [5.7 3.8 1.7 0.3]\n",
            " [5.1 3.8 1.5 0.3]\n",
            " [5.4 3.4 1.7 0.2]\n",
            " [5.1 3.7 1.5 0.4]\n",
            " [4.6 3.6 1.  0.2]\n",
            " [5.1 3.3 1.7 0.5]\n",
            " [4.8 3.4 1.9 0.2]\n",
            " [5.  3.  1.6 0.2]\n",
            " [5.  3.4 1.6 0.4]\n",
            " [5.2 3.5 1.5 0.2]\n",
            " [5.2 3.4 1.4 0.2]\n",
            " [4.7 3.2 1.6 0.2]\n",
            " [4.8 3.1 1.6 0.2]\n",
            " [5.4 3.4 1.5 0.4]\n",
            " [5.2 4.1 1.5 0.1]\n",
            " [5.5 4.2 1.4 0.2]\n",
            " [4.9 3.1 1.5 0.2]\n",
            " [5.  3.2 1.2 0.2]\n",
            " [5.5 3.5 1.3 0.2]\n",
            " [4.9 3.6 1.4 0.1]\n",
            " [4.4 3.  1.3 0.2]\n",
            " [5.1 3.4 1.5 0.2]\n",
            " [5.  3.5 1.3 0.3]\n",
            " [4.5 2.3 1.3 0.3]\n",
            " [4.4 3.2 1.3 0.2]\n",
            " [5.  3.5 1.6 0.6]\n",
            " [5.1 3.8 1.9 0.4]\n",
            " [4.8 3.  1.4 0.3]\n",
            " [5.1 3.8 1.6 0.2]\n",
            " [4.6 3.2 1.4 0.2]\n",
            " [5.3 3.7 1.5 0.2]\n",
            " [5.  3.3 1.4 0.2]\n",
            " [7.  3.2 4.7 1.4]\n",
            " [6.4 3.2 4.5 1.5]\n",
            " [6.9 3.1 4.9 1.5]\n",
            " [5.5 2.3 4.  1.3]\n",
            " [6.5 2.8 4.6 1.5]\n",
            " [5.7 2.8 4.5 1.3]\n",
            " [6.3 3.3 4.7 1.6]\n",
            " [4.9 2.4 3.3 1. ]\n",
            " [6.6 2.9 4.6 1.3]\n",
            " [5.2 2.7 3.9 1.4]\n",
            " [5.  2.  3.5 1. ]\n",
            " [5.9 3.  4.2 1.5]\n",
            " [6.  2.2 4.  1. ]\n",
            " [6.1 2.9 4.7 1.4]\n",
            " [5.6 2.9 3.6 1.3]\n",
            " [6.7 3.1 4.4 1.4]\n",
            " [5.6 3.  4.5 1.5]\n",
            " [5.8 2.7 4.1 1. ]\n",
            " [6.2 2.2 4.5 1.5]\n",
            " [5.6 2.5 3.9 1.1]\n",
            " [5.9 3.2 4.8 1.8]\n",
            " [6.1 2.8 4.  1.3]\n",
            " [6.3 2.5 4.9 1.5]\n",
            " [6.1 2.8 4.7 1.2]\n",
            " [6.4 2.9 4.3 1.3]\n",
            " [6.6 3.  4.4 1.4]\n",
            " [6.8 2.8 4.8 1.4]\n",
            " [6.7 3.  5.  1.7]\n",
            " [6.  2.9 4.5 1.5]\n",
            " [5.7 2.6 3.5 1. ]\n",
            " [5.5 2.4 3.8 1.1]\n",
            " [5.5 2.4 3.7 1. ]\n",
            " [5.8 2.7 3.9 1.2]\n",
            " [6.  2.7 5.1 1.6]\n",
            " [5.4 3.  4.5 1.5]\n",
            " [6.  3.4 4.5 1.6]\n",
            " [6.7 3.1 4.7 1.5]\n",
            " [6.3 2.3 4.4 1.3]\n",
            " [5.6 3.  4.1 1.3]\n",
            " [5.5 2.5 4.  1.3]\n",
            " [5.5 2.6 4.4 1.2]\n",
            " [6.1 3.  4.6 1.4]\n",
            " [5.8 2.6 4.  1.2]\n",
            " [5.  2.3 3.3 1. ]\n",
            " [5.6 2.7 4.2 1.3]\n",
            " [5.7 3.  4.2 1.2]\n",
            " [5.7 2.9 4.2 1.3]\n",
            " [6.2 2.9 4.3 1.3]\n",
            " [5.1 2.5 3.  1.1]\n",
            " [5.7 2.8 4.1 1.3]\n",
            " [6.3 3.3 6.  2.5]\n",
            " [5.8 2.7 5.1 1.9]\n",
            " [7.1 3.  5.9 2.1]\n",
            " [6.3 2.9 5.6 1.8]\n",
            " [6.5 3.  5.8 2.2]\n",
            " [7.6 3.  6.6 2.1]\n",
            " [4.9 2.5 4.5 1.7]\n",
            " [7.3 2.9 6.3 1.8]\n",
            " [6.7 2.5 5.8 1.8]\n",
            " [7.2 3.6 6.1 2.5]\n",
            " [6.5 3.2 5.1 2. ]\n",
            " [6.4 2.7 5.3 1.9]\n",
            " [6.8 3.  5.5 2.1]\n",
            " [5.7 2.5 5.  2. ]\n",
            " [5.8 2.8 5.1 2.4]\n",
            " [6.4 3.2 5.3 2.3]\n",
            " [6.5 3.  5.5 1.8]\n",
            " [7.7 3.8 6.7 2.2]\n",
            " [7.7 2.6 6.9 2.3]\n",
            " [6.  2.2 5.  1.5]\n",
            " [6.9 3.2 5.7 2.3]\n",
            " [5.6 2.8 4.9 2. ]\n",
            " [7.7 2.8 6.7 2. ]\n",
            " [6.3 2.7 4.9 1.8]\n",
            " [6.7 3.3 5.7 2.1]\n",
            " [7.2 3.2 6.  1.8]\n",
            " [6.2 2.8 4.8 1.8]\n",
            " [6.1 3.  4.9 1.8]\n",
            " [6.4 2.8 5.6 2.1]\n",
            " [7.2 3.  5.8 1.6]\n",
            " [7.4 2.8 6.1 1.9]\n",
            " [7.9 3.8 6.4 2. ]\n",
            " [6.4 2.8 5.6 2.2]\n",
            " [6.3 2.8 5.1 1.5]\n",
            " [6.1 2.6 5.6 1.4]\n",
            " [7.7 3.  6.1 2.3]\n",
            " [6.3 3.4 5.6 2.4]\n",
            " [6.4 3.1 5.5 1.8]\n",
            " [6.  3.  4.8 1.8]\n",
            " [6.9 3.1 5.4 2.1]\n",
            " [6.7 3.1 5.6 2.4]\n",
            " [6.9 3.1 5.1 2.3]\n",
            " [5.8 2.7 5.1 1.9]\n",
            " [6.8 3.2 5.9 2.3]\n",
            " [6.7 3.3 5.7 2.5]\n",
            " [6.7 3.  5.2 2.3]\n",
            " [6.3 2.5 5.  1.9]\n",
            " [6.5 3.  5.2 2. ]\n",
            " [6.2 3.4 5.4 2.3]\n",
            " [5.9 3.  5.1 1.8]]\n",
            "[[0.22222222 0.625      0.06779661 0.04166667]\n",
            " [0.16666667 0.41666667 0.06779661 0.04166667]\n",
            " [0.11111111 0.5        0.05084746 0.04166667]\n",
            " [0.08333333 0.45833333 0.08474576 0.04166667]\n",
            " [0.19444444 0.66666667 0.06779661 0.04166667]\n",
            " [0.30555556 0.79166667 0.11864407 0.125     ]\n",
            " [0.08333333 0.58333333 0.06779661 0.08333333]\n",
            " [0.19444444 0.58333333 0.08474576 0.04166667]\n",
            " [0.02777778 0.375      0.06779661 0.04166667]\n",
            " [0.16666667 0.45833333 0.08474576 0.        ]\n",
            " [0.30555556 0.70833333 0.08474576 0.04166667]\n",
            " [0.13888889 0.58333333 0.10169492 0.04166667]\n",
            " [0.13888889 0.41666667 0.06779661 0.        ]\n",
            " [0.         0.41666667 0.01694915 0.        ]\n",
            " [0.41666667 0.83333333 0.03389831 0.04166667]\n",
            " [0.38888889 1.         0.08474576 0.125     ]\n",
            " [0.30555556 0.79166667 0.05084746 0.125     ]\n",
            " [0.22222222 0.625      0.06779661 0.08333333]\n",
            " [0.38888889 0.75       0.11864407 0.08333333]\n",
            " [0.22222222 0.75       0.08474576 0.08333333]\n",
            " [0.30555556 0.58333333 0.11864407 0.04166667]\n",
            " [0.22222222 0.70833333 0.08474576 0.125     ]\n",
            " [0.08333333 0.66666667 0.         0.04166667]\n",
            " [0.22222222 0.54166667 0.11864407 0.16666667]\n",
            " [0.13888889 0.58333333 0.15254237 0.04166667]\n",
            " [0.19444444 0.41666667 0.10169492 0.04166667]\n",
            " [0.19444444 0.58333333 0.10169492 0.125     ]\n",
            " [0.25       0.625      0.08474576 0.04166667]\n",
            " [0.25       0.58333333 0.06779661 0.04166667]\n",
            " [0.11111111 0.5        0.10169492 0.04166667]\n",
            " [0.13888889 0.45833333 0.10169492 0.04166667]\n",
            " [0.30555556 0.58333333 0.08474576 0.125     ]\n",
            " [0.25       0.875      0.08474576 0.        ]\n",
            " [0.33333333 0.91666667 0.06779661 0.04166667]\n",
            " [0.16666667 0.45833333 0.08474576 0.04166667]\n",
            " [0.19444444 0.5        0.03389831 0.04166667]\n",
            " [0.33333333 0.625      0.05084746 0.04166667]\n",
            " [0.16666667 0.66666667 0.06779661 0.        ]\n",
            " [0.02777778 0.41666667 0.05084746 0.04166667]\n",
            " [0.22222222 0.58333333 0.08474576 0.04166667]\n",
            " [0.19444444 0.625      0.05084746 0.08333333]\n",
            " [0.05555556 0.125      0.05084746 0.08333333]\n",
            " [0.02777778 0.5        0.05084746 0.04166667]\n",
            " [0.19444444 0.625      0.10169492 0.20833333]\n",
            " [0.22222222 0.75       0.15254237 0.125     ]\n",
            " [0.13888889 0.41666667 0.06779661 0.08333333]\n",
            " [0.22222222 0.75       0.10169492 0.04166667]\n",
            " [0.08333333 0.5        0.06779661 0.04166667]\n",
            " [0.27777778 0.70833333 0.08474576 0.04166667]\n",
            " [0.19444444 0.54166667 0.06779661 0.04166667]\n",
            " [0.75       0.5        0.62711864 0.54166667]\n",
            " [0.58333333 0.5        0.59322034 0.58333333]\n",
            " [0.72222222 0.45833333 0.66101695 0.58333333]\n",
            " [0.33333333 0.125      0.50847458 0.5       ]\n",
            " [0.61111111 0.33333333 0.61016949 0.58333333]\n",
            " [0.38888889 0.33333333 0.59322034 0.5       ]\n",
            " [0.55555556 0.54166667 0.62711864 0.625     ]\n",
            " [0.16666667 0.16666667 0.38983051 0.375     ]\n",
            " [0.63888889 0.375      0.61016949 0.5       ]\n",
            " [0.25       0.29166667 0.49152542 0.54166667]\n",
            " [0.19444444 0.         0.42372881 0.375     ]\n",
            " [0.44444444 0.41666667 0.54237288 0.58333333]\n",
            " [0.47222222 0.08333333 0.50847458 0.375     ]\n",
            " [0.5        0.375      0.62711864 0.54166667]\n",
            " [0.36111111 0.375      0.44067797 0.5       ]\n",
            " [0.66666667 0.45833333 0.57627119 0.54166667]\n",
            " [0.36111111 0.41666667 0.59322034 0.58333333]\n",
            " [0.41666667 0.29166667 0.52542373 0.375     ]\n",
            " [0.52777778 0.08333333 0.59322034 0.58333333]\n",
            " [0.36111111 0.20833333 0.49152542 0.41666667]\n",
            " [0.44444444 0.5        0.6440678  0.70833333]\n",
            " [0.5        0.33333333 0.50847458 0.5       ]\n",
            " [0.55555556 0.20833333 0.66101695 0.58333333]\n",
            " [0.5        0.33333333 0.62711864 0.45833333]\n",
            " [0.58333333 0.375      0.55932203 0.5       ]\n",
            " [0.63888889 0.41666667 0.57627119 0.54166667]\n",
            " [0.69444444 0.33333333 0.6440678  0.54166667]\n",
            " [0.66666667 0.41666667 0.6779661  0.66666667]\n",
            " [0.47222222 0.375      0.59322034 0.58333333]\n",
            " [0.38888889 0.25       0.42372881 0.375     ]\n",
            " [0.33333333 0.16666667 0.47457627 0.41666667]\n",
            " [0.33333333 0.16666667 0.45762712 0.375     ]\n",
            " [0.41666667 0.29166667 0.49152542 0.45833333]\n",
            " [0.47222222 0.29166667 0.69491525 0.625     ]\n",
            " [0.30555556 0.41666667 0.59322034 0.58333333]\n",
            " [0.47222222 0.58333333 0.59322034 0.625     ]\n",
            " [0.66666667 0.45833333 0.62711864 0.58333333]\n",
            " [0.55555556 0.125      0.57627119 0.5       ]\n",
            " [0.36111111 0.41666667 0.52542373 0.5       ]\n",
            " [0.33333333 0.20833333 0.50847458 0.5       ]\n",
            " [0.33333333 0.25       0.57627119 0.45833333]\n",
            " [0.5        0.41666667 0.61016949 0.54166667]\n",
            " [0.41666667 0.25       0.50847458 0.45833333]\n",
            " [0.19444444 0.125      0.38983051 0.375     ]\n",
            " [0.36111111 0.29166667 0.54237288 0.5       ]\n",
            " [0.38888889 0.41666667 0.54237288 0.45833333]\n",
            " [0.38888889 0.375      0.54237288 0.5       ]\n",
            " [0.52777778 0.375      0.55932203 0.5       ]\n",
            " [0.22222222 0.20833333 0.33898305 0.41666667]\n",
            " [0.38888889 0.33333333 0.52542373 0.5       ]\n",
            " [0.55555556 0.54166667 0.84745763 1.        ]\n",
            " [0.41666667 0.29166667 0.69491525 0.75      ]\n",
            " [0.77777778 0.41666667 0.83050847 0.83333333]\n",
            " [0.55555556 0.375      0.77966102 0.70833333]\n",
            " [0.61111111 0.41666667 0.81355932 0.875     ]\n",
            " [0.91666667 0.41666667 0.94915254 0.83333333]\n",
            " [0.16666667 0.20833333 0.59322034 0.66666667]\n",
            " [0.83333333 0.375      0.89830508 0.70833333]\n",
            " [0.66666667 0.20833333 0.81355932 0.70833333]\n",
            " [0.80555556 0.66666667 0.86440678 1.        ]\n",
            " [0.61111111 0.5        0.69491525 0.79166667]\n",
            " [0.58333333 0.29166667 0.72881356 0.75      ]\n",
            " [0.69444444 0.41666667 0.76271186 0.83333333]\n",
            " [0.38888889 0.20833333 0.6779661  0.79166667]\n",
            " [0.41666667 0.33333333 0.69491525 0.95833333]\n",
            " [0.58333333 0.5        0.72881356 0.91666667]\n",
            " [0.61111111 0.41666667 0.76271186 0.70833333]\n",
            " [0.94444444 0.75       0.96610169 0.875     ]\n",
            " [0.94444444 0.25       1.         0.91666667]\n",
            " [0.47222222 0.08333333 0.6779661  0.58333333]\n",
            " [0.72222222 0.5        0.79661017 0.91666667]\n",
            " [0.36111111 0.33333333 0.66101695 0.79166667]\n",
            " [0.94444444 0.33333333 0.96610169 0.79166667]\n",
            " [0.55555556 0.29166667 0.66101695 0.70833333]\n",
            " [0.66666667 0.54166667 0.79661017 0.83333333]\n",
            " [0.80555556 0.5        0.84745763 0.70833333]\n",
            " [0.52777778 0.33333333 0.6440678  0.70833333]\n",
            " [0.5        0.41666667 0.66101695 0.70833333]\n",
            " [0.58333333 0.33333333 0.77966102 0.83333333]\n",
            " [0.80555556 0.41666667 0.81355932 0.625     ]\n",
            " [0.86111111 0.33333333 0.86440678 0.75      ]\n",
            " [1.         0.75       0.91525424 0.79166667]\n",
            " [0.58333333 0.33333333 0.77966102 0.875     ]\n",
            " [0.55555556 0.33333333 0.69491525 0.58333333]\n",
            " [0.5        0.25       0.77966102 0.54166667]\n",
            " [0.94444444 0.41666667 0.86440678 0.91666667]\n",
            " [0.55555556 0.58333333 0.77966102 0.95833333]\n",
            " [0.58333333 0.45833333 0.76271186 0.70833333]\n",
            " [0.47222222 0.41666667 0.6440678  0.70833333]\n",
            " [0.72222222 0.45833333 0.74576271 0.83333333]\n",
            " [0.66666667 0.45833333 0.77966102 0.95833333]\n",
            " [0.72222222 0.45833333 0.69491525 0.91666667]\n",
            " [0.41666667 0.29166667 0.69491525 0.75      ]\n",
            " [0.69444444 0.5        0.83050847 0.91666667]\n",
            " [0.66666667 0.54166667 0.79661017 1.        ]\n",
            " [0.66666667 0.41666667 0.71186441 0.91666667]\n",
            " [0.55555556 0.20833333 0.6779661  0.75      ]\n",
            " [0.61111111 0.41666667 0.71186441 0.79166667]\n",
            " [0.52777778 0.58333333 0.74576271 0.91666667]\n",
            " [0.44444444 0.41666667 0.69491525 0.70833333]]\n"
          ]
        }
      ]
    },
    {
      "cell_type": "markdown",
      "metadata": {
        "id": "6UM-UGo53wwD"
      },
      "source": [
        "4.Read csv datafile using pandas dataframe then find the covariance and correlation"
      ]
    },
    {
      "cell_type": "code",
      "metadata": {
        "id": "CeLW8-m53zbg",
        "colab": {
          "base_uri": "https://localhost:8080/",
          "height": 414
        },
        "outputId": "09081020-f3b2-41d5-8f6b-173fece33600"
      },
      "source": [
        "# for showing the coviariance\n",
        "iris = pd.read_csv(\"/content/drive/MyDrive/Colab Notebooks/Iris.csv\")\n",
        "iris"
      ],
      "execution_count": null,
      "outputs": [
        {
          "output_type": "execute_result",
          "data": {
            "text/html": [
              "<div>\n",
              "<style scoped>\n",
              "    .dataframe tbody tr th:only-of-type {\n",
              "        vertical-align: middle;\n",
              "    }\n",
              "\n",
              "    .dataframe tbody tr th {\n",
              "        vertical-align: top;\n",
              "    }\n",
              "\n",
              "    .dataframe thead th {\n",
              "        text-align: right;\n",
              "    }\n",
              "</style>\n",
              "<table border=\"1\" class=\"dataframe\">\n",
              "  <thead>\n",
              "    <tr style=\"text-align: right;\">\n",
              "      <th></th>\n",
              "      <th>Id</th>\n",
              "      <th>SepalLengthCm</th>\n",
              "      <th>SepalWidthCm</th>\n",
              "      <th>PetalLengthCm</th>\n",
              "      <th>PetalWidthCm</th>\n",
              "      <th>Species</th>\n",
              "    </tr>\n",
              "  </thead>\n",
              "  <tbody>\n",
              "    <tr>\n",
              "      <th>0</th>\n",
              "      <td>1</td>\n",
              "      <td>5.1</td>\n",
              "      <td>3.5</td>\n",
              "      <td>1.4</td>\n",
              "      <td>0.2</td>\n",
              "      <td>Iris-setosa</td>\n",
              "    </tr>\n",
              "    <tr>\n",
              "      <th>1</th>\n",
              "      <td>2</td>\n",
              "      <td>4.9</td>\n",
              "      <td>3.0</td>\n",
              "      <td>1.4</td>\n",
              "      <td>0.2</td>\n",
              "      <td>Iris-setosa</td>\n",
              "    </tr>\n",
              "    <tr>\n",
              "      <th>2</th>\n",
              "      <td>3</td>\n",
              "      <td>4.7</td>\n",
              "      <td>3.2</td>\n",
              "      <td>1.3</td>\n",
              "      <td>0.2</td>\n",
              "      <td>Iris-setosa</td>\n",
              "    </tr>\n",
              "    <tr>\n",
              "      <th>3</th>\n",
              "      <td>4</td>\n",
              "      <td>4.6</td>\n",
              "      <td>3.1</td>\n",
              "      <td>1.5</td>\n",
              "      <td>0.2</td>\n",
              "      <td>Iris-setosa</td>\n",
              "    </tr>\n",
              "    <tr>\n",
              "      <th>4</th>\n",
              "      <td>5</td>\n",
              "      <td>5.0</td>\n",
              "      <td>3.6</td>\n",
              "      <td>1.4</td>\n",
              "      <td>0.2</td>\n",
              "      <td>Iris-setosa</td>\n",
              "    </tr>\n",
              "    <tr>\n",
              "      <th>...</th>\n",
              "      <td>...</td>\n",
              "      <td>...</td>\n",
              "      <td>...</td>\n",
              "      <td>...</td>\n",
              "      <td>...</td>\n",
              "      <td>...</td>\n",
              "    </tr>\n",
              "    <tr>\n",
              "      <th>145</th>\n",
              "      <td>146</td>\n",
              "      <td>6.7</td>\n",
              "      <td>3.0</td>\n",
              "      <td>5.2</td>\n",
              "      <td>2.3</td>\n",
              "      <td>Iris-virginica</td>\n",
              "    </tr>\n",
              "    <tr>\n",
              "      <th>146</th>\n",
              "      <td>147</td>\n",
              "      <td>6.3</td>\n",
              "      <td>2.5</td>\n",
              "      <td>5.0</td>\n",
              "      <td>1.9</td>\n",
              "      <td>Iris-virginica</td>\n",
              "    </tr>\n",
              "    <tr>\n",
              "      <th>147</th>\n",
              "      <td>148</td>\n",
              "      <td>6.5</td>\n",
              "      <td>3.0</td>\n",
              "      <td>5.2</td>\n",
              "      <td>2.0</td>\n",
              "      <td>Iris-virginica</td>\n",
              "    </tr>\n",
              "    <tr>\n",
              "      <th>148</th>\n",
              "      <td>149</td>\n",
              "      <td>6.2</td>\n",
              "      <td>3.4</td>\n",
              "      <td>5.4</td>\n",
              "      <td>2.3</td>\n",
              "      <td>Iris-virginica</td>\n",
              "    </tr>\n",
              "    <tr>\n",
              "      <th>149</th>\n",
              "      <td>150</td>\n",
              "      <td>5.9</td>\n",
              "      <td>3.0</td>\n",
              "      <td>5.1</td>\n",
              "      <td>1.8</td>\n",
              "      <td>Iris-virginica</td>\n",
              "    </tr>\n",
              "  </tbody>\n",
              "</table>\n",
              "<p>150 rows × 6 columns</p>\n",
              "</div>"
            ],
            "text/plain": [
              "      Id  SepalLengthCm  ...  PetalWidthCm         Species\n",
              "0      1            5.1  ...           0.2     Iris-setosa\n",
              "1      2            4.9  ...           0.2     Iris-setosa\n",
              "2      3            4.7  ...           0.2     Iris-setosa\n",
              "3      4            4.6  ...           0.2     Iris-setosa\n",
              "4      5            5.0  ...           0.2     Iris-setosa\n",
              "..   ...            ...  ...           ...             ...\n",
              "145  146            6.7  ...           2.3  Iris-virginica\n",
              "146  147            6.3  ...           1.9  Iris-virginica\n",
              "147  148            6.5  ...           2.0  Iris-virginica\n",
              "148  149            6.2  ...           2.3  Iris-virginica\n",
              "149  150            5.9  ...           1.8  Iris-virginica\n",
              "\n",
              "[150 rows x 6 columns]"
            ]
          },
          "metadata": {},
          "execution_count": 11
        }
      ]
    },
    {
      "cell_type": "code",
      "metadata": {
        "id": "L9zpMOzS31tT",
        "colab": {
          "base_uri": "https://localhost:8080/",
          "height": 202
        },
        "outputId": "29f4a1bf-e971-4b69-bda2-a410666dfd6d"
      },
      "source": [
        "iris.cov()"
      ],
      "execution_count": null,
      "outputs": [
        {
          "output_type": "execute_result",
          "data": {
            "text/html": [
              "<div>\n",
              "<style scoped>\n",
              "    .dataframe tbody tr th:only-of-type {\n",
              "        vertical-align: middle;\n",
              "    }\n",
              "\n",
              "    .dataframe tbody tr th {\n",
              "        vertical-align: top;\n",
              "    }\n",
              "\n",
              "    .dataframe thead th {\n",
              "        text-align: right;\n",
              "    }\n",
              "</style>\n",
              "<table border=\"1\" class=\"dataframe\">\n",
              "  <thead>\n",
              "    <tr style=\"text-align: right;\">\n",
              "      <th></th>\n",
              "      <th>Id</th>\n",
              "      <th>SepalLengthCm</th>\n",
              "      <th>SepalWidthCm</th>\n",
              "      <th>PetalLengthCm</th>\n",
              "      <th>PetalWidthCm</th>\n",
              "    </tr>\n",
              "  </thead>\n",
              "  <tbody>\n",
              "    <tr>\n",
              "      <th>Id</th>\n",
              "      <td>1887.500000</td>\n",
              "      <td>25.782886</td>\n",
              "      <td>-7.492282</td>\n",
              "      <td>67.667785</td>\n",
              "      <td>29.832215</td>\n",
              "    </tr>\n",
              "    <tr>\n",
              "      <th>SepalLengthCm</th>\n",
              "      <td>25.782886</td>\n",
              "      <td>0.685694</td>\n",
              "      <td>-0.039268</td>\n",
              "      <td>1.273682</td>\n",
              "      <td>0.516904</td>\n",
              "    </tr>\n",
              "    <tr>\n",
              "      <th>SepalWidthCm</th>\n",
              "      <td>-7.492282</td>\n",
              "      <td>-0.039268</td>\n",
              "      <td>0.188004</td>\n",
              "      <td>-0.321713</td>\n",
              "      <td>-0.117981</td>\n",
              "    </tr>\n",
              "    <tr>\n",
              "      <th>PetalLengthCm</th>\n",
              "      <td>67.667785</td>\n",
              "      <td>1.273682</td>\n",
              "      <td>-0.321713</td>\n",
              "      <td>3.113179</td>\n",
              "      <td>1.296387</td>\n",
              "    </tr>\n",
              "    <tr>\n",
              "      <th>PetalWidthCm</th>\n",
              "      <td>29.832215</td>\n",
              "      <td>0.516904</td>\n",
              "      <td>-0.117981</td>\n",
              "      <td>1.296387</td>\n",
              "      <td>0.582414</td>\n",
              "    </tr>\n",
              "  </tbody>\n",
              "</table>\n",
              "</div>"
            ],
            "text/plain": [
              "                        Id  SepalLengthCm  ...  PetalLengthCm  PetalWidthCm\n",
              "Id             1887.500000      25.782886  ...      67.667785     29.832215\n",
              "SepalLengthCm    25.782886       0.685694  ...       1.273682      0.516904\n",
              "SepalWidthCm     -7.492282      -0.039268  ...      -0.321713     -0.117981\n",
              "PetalLengthCm    67.667785       1.273682  ...       3.113179      1.296387\n",
              "PetalWidthCm     29.832215       0.516904  ...       1.296387      0.582414\n",
              "\n",
              "[5 rows x 5 columns]"
            ]
          },
          "metadata": {},
          "execution_count": 12
        }
      ]
    }
  ]
}