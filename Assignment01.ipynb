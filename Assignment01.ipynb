{
  "nbformat": 4,
  "nbformat_minor": 0,
  "metadata": {
    "colab": {
      "name": "Assignment01.ipynb",
      "provenance": [],
      "collapsed_sections": [],
      "authorship_tag": "ABX9TyP9QNX8OEhtZeMkUb3PRWL1",
      "include_colab_link": true
    },
    "kernelspec": {
      "name": "python3",
      "display_name": "Python 3"
    },
    "language_info": {
      "name": "python"
    }
  },
  "cells": [
    {
      "cell_type": "markdown",
      "metadata": {
        "id": "view-in-github",
        "colab_type": "text"
      },
      "source": [
        "<a href=\"https://colab.research.google.com/github/Mohit7778/DMDW-LAB/blob/main/Assignment01.ipynb\" target=\"_parent\"><img src=\"https://colab.research.google.com/assets/colab-badge.svg\" alt=\"Open In Colab\"/></a>"
      ]
    },
    {
      "cell_type": "markdown",
      "metadata": {
        "id": "h_wMXoLJsQmf"
      },
      "source": [
        "Create a list in python . Next find mean and median of the list without using any builtin library functions"
      ]
    },
    {
      "cell_type": "markdown",
      "metadata": {
        "id": "E20NkCGescoz"
      },
      "source": [
        "Mean"
      ]
    },
    {
      "cell_type": "code",
      "metadata": {
        "colab": {
          "base_uri": "https://localhost:8080/"
        },
        "id": "FMPy7ZjhsLXT",
        "outputId": "3d852abe-edae-4624-8a32-00a467081303"
      },
      "source": [
        "l=[12,35,18,9,56,24]\n",
        "mean=sum(l)/len(l)\n",
        "print(\"The mean of list l is \",mean)"
      ],
      "execution_count": null,
      "outputs": [
        {
          "output_type": "stream",
          "name": "stdout",
          "text": [
            "The mean of list l is  25.666666666666668\n"
          ]
        }
      ]
    },
    {
      "cell_type": "markdown",
      "metadata": {
        "id": "IKU-giJysNAd"
      },
      "source": [
        "Median"
      ]
    },
    {
      "cell_type": "code",
      "metadata": {
        "colab": {
          "base_uri": "https://localhost:8080/"
        },
        "id": "olg0BKeFskoP",
        "outputId": "0c662232-da33-4e9f-c663-2eaca316a009"
      },
      "source": [
        "n=len(l)\n",
        "l.sort()\n",
        "if(n%2==0):\n",
        "    median=(l[n//2]+l[n//2-1])/2\n",
        "    print(\"The median is \",median)\n",
        "else:\n",
        "    median=l[n//2]\n",
        "    print(\"The median is \",median)"
      ],
      "execution_count": null,
      "outputs": [
        {
          "output_type": "stream",
          "name": "stdout",
          "text": [
            "The median is  21.0\n"
          ]
        }
      ]
    },
    {
      "cell_type": "markdown",
      "metadata": {
        "id": "YhqZV-uPso81"
      },
      "source": [
        "2. Create list inj python. Next find the mode of the list without using any builtin library function"
      ]
    },
    {
      "cell_type": "code",
      "metadata": {
        "colab": {
          "base_uri": "https://localhost:8080/"
        },
        "id": "OSWZ1o4zsrEN",
        "outputId": "c59a02bb-4ac0-4746-d067-0be9a1b7ab50"
      },
      "source": [
        "list1=[2,3,1,1,6,2,1,5]\n",
        "list1.sort()\n",
        "list2 = []\n",
        "res = []\n",
        "for i in list1:\n",
        "    list2.append(list1.count(i))\n",
        "dic = dict(zip(list1,list2))\n",
        "for k,v in dic.items():\n",
        "    if v == max(list2):\n",
        "        res.append(k)\n",
        "print(\"Mode is: \",res)"
      ],
      "execution_count": null,
      "outputs": [
        {
          "output_type": "stream",
          "name": "stdout",
          "text": [
            "Mode is:  [1]\n"
          ]
        }
      ]
    },
    {
      "cell_type": "markdown",
      "metadata": {
        "id": "rPGqdAausvGR"
      },
      "source": [
        "3. Create a list in python. Next find the second smallest number and second highest number in the list\n"
      ]
    },
    {
      "cell_type": "code",
      "metadata": {
        "colab": {
          "base_uri": "https://localhost:8080/"
        },
        "id": "2pxHeOmCs0SZ",
        "outputId": "5ecae1f9-b480-4a8f-999b-81599ea474d4"
      },
      "source": [
        "l=[12,35,18,9,56,24]\n",
        "l.sort()\n",
        "print(\"The second largest number is : \",l[len(l)-2])\n",
        "print(\"The second smallest number is : \",l[1])"
      ],
      "execution_count": null,
      "outputs": [
        {
          "output_type": "stream",
          "name": "stdout",
          "text": [
            "The second largest number is :  35\n",
            "The second smallest number is :  12\n"
          ]
        }
      ]
    }
  ]
}